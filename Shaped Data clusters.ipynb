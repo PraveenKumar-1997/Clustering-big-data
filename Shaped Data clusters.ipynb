{
 "cells": [
  {
   "cell_type": "code",
   "execution_count": 2,
   "id": "9e0d92bf",
   "metadata": {},
   "outputs": [],
   "source": [
    "import pandas as pd\n",
    "import numpy as np\n",
    "import matplotlib.pyplot as plt\n",
    "import seaborn as sns\n",
    "\n",
    "import random\n",
    "import os\n",
    "path = 'C://Users//paarv//OneDrive - University of Illinois - Urbana//Desktop//IE 529//Hw'\n",
    "os.chdir(path)"
   ]
  },
  {
   "cell_type": "code",
   "execution_count": 3,
   "id": "8138b359",
   "metadata": {},
   "outputs": [],
   "source": [
    "df = pd.read_csv(\"ShapedData.csv\", header=None)\n",
    "df.columns = ['x', 'y']\n",
    "data = np.array(df)"
   ]
  },
  {
   "cell_type": "code",
   "execution_count": 4,
   "id": "3d5fcf10",
   "metadata": {},
   "outputs": [
    {
     "name": "stdout",
     "output_type": "stream",
     "text": [
      "Total Number of data points:  4460\n"
     ]
    }
   ],
   "source": [
    "print(\"Total Number of data points: \", len(df))"
   ]
  },
  {
   "cell_type": "code",
   "execution_count": 5,
   "id": "25240d9e",
   "metadata": {},
   "outputs": [
    {
     "data": {
      "text/plain": [
       "array([[ 2.1865 , -1.226  ],\n",
       "       [ 5.9486 , -2.3155 ],\n",
       "       [ 4.9435 , -2.7735 ],\n",
       "       ...,\n",
       "       [ 3.8899 ,  1.9704 ],\n",
       "       [ 4.5981 ,  1.1191 ],\n",
       "       [-0.57903, -4.1041 ]])"
      ]
     },
     "execution_count": 5,
     "metadata": {},
     "output_type": "execute_result"
    }
   ],
   "source": [
    "data"
   ]
  },
  {
   "cell_type": "code",
   "execution_count": 7,
   "id": "3487edcc",
   "metadata": {},
   "outputs": [
    {
     "data": {
      "image/png": "[encoded data removed]",
      "text/plain": [
       "<Figure size 432x288 with 1 Axes>"
      ]
     },
     "metadata": {
      "needs_background": "light"
     },
     "output_type": "display_data"
    }
   ],
   "source": [
    "# Scatter plot of the original data\n",
    "plt.scatter(df['x'], df['y'])\n",
    "plt.title('Original data points - ShapedData')\n",
    "plt.show()"
   ]
  },
  {
   "cell_type": "markdown",
   "id": "89237ce2",
   "metadata": {},
   "source": [
    "# Lloyd's Algorithm\n",
    "Steps:\n",
    "1. Initialize K - random data points as centroids\n",
    "2. Assign each data point in the data into one of those K centroids using 2-norm\n",
    "3. Calculate the new centroids, which are just mean of the data points assigned to those K centroids\n",
    "4. Replace old centorids with new centorids till they converge (cost function no more reduces)"
   ]
  },
  {
   "cell_type": "code",
   "execution_count": 8,
   "id": "0c3ea8b4",
   "metadata": {},
   "outputs": [],
   "source": [
    "def centroid_intialization(K, data):\n",
    "    random.seed(23)\n",
    "    KCentroidIndices = random.sample(range(0, len(data)), K)\n",
    "    KCentroids = data[KCentroidIndices]\n",
    "    return KCentroids\n",
    "\n",
    "def cost_function(centers_, data): # WCSS with 2 norm (Eucl. distance)\n",
    "    totCost = 0\n",
    "    for clusterName, clusterChars in centers_.items(): # clusterChars is a list of lists, [ [centroid],[itsClusterptsIds] ]\n",
    "        clusterCentroid = clusterChars[0]\n",
    "        clusterPtIndices = clusterChars[1]\n",
    "        totCost += totCost + np.sum(np.sum((data[clusterPtIndices] - clusterCentroid)**2))\n",
    "    return totCost\n",
    "\n",
    "def eucl_dist(centroid, other_pt_in_clust):\n",
    "    return np.sum((centroid - other_pt_in_clust)**2)"
   ]
  },
  {
   "cell_type": "code",
   "execution_count": 15,
   "id": "66625312",
   "metadata": {},
   "outputs": [
    {
     "data": {
      "text/plain": [
       "[39, 12, 4, 77, 41, 56, 50]"
      ]
     },
     "execution_count": 15,
     "metadata": {},
     "output_type": "execute_result"
    }
   ],
   "source": [
    "# Set seed\n",
    "random.seed(23)\n",
    "random.sample(range(2, 100), 7)"
   ]
  },
  {
   "cell_type": "code",
   "execution_count": 96,
   "id": "3fe22a64",
   "metadata": {},
   "outputs": [
    {
     "name": "stdout",
     "output_type": "stream",
     "text": [
      "[[ 4.1355 -1.8417]\n",
      " [ 2.0181 -1.0868]]\n"
     ]
    }
   ],
   "source": [
    "# Step 1\n",
    "K = 2\n",
    "Centorids = centroid_intialization(K=K, data=data)\n",
    "print(Centorids)"
   ]
  },
  {
   "cell_type": "code",
   "execution_count": 97,
   "id": "0508420a",
   "metadata": {},
   "outputs": [
    {
     "name": "stdout",
     "output_type": "stream",
     "text": [
      "{0: [[array([ 4.1355, -1.8417])], []], 1: [[array([ 2.0181, -1.0868])], []]}\n",
      "dict_items([(0, [[array([ 4.1355, -1.8417])], []]), (1, [[array([ 2.0181, -1.0868])], []])])\n"
     ]
    }
   ],
   "source": [
    "# Initialize empty list for every cluster\n",
    "centers_ = {k:[[Centorids[k]], []] for k in range(K)}\n",
    "print(centers_)\n",
    "print(centers_.items())"
   ]
  },
  {
   "cell_type": "code",
   "execution_count": 98,
   "id": "253e9bd0",
   "metadata": {},
   "outputs": [
    {
     "data": {
      "text/plain": [
       "{0: [[array([ 4.1355, -1.8417])], []], 1: [[array([ 2.0181, -1.0868])], []]}"
      ]
     },
     "execution_count": 98,
     "metadata": {},
     "output_type": "execute_result"
    }
   ],
   "source": [
    "centers_"
   ]
  },
  {
   "cell_type": "code",
   "execution_count": 103,
   "id": "fcbd29c0",
   "metadata": {},
   "outputs": [
    {
     "name": "stdout",
     "output_type": "stream",
     "text": [
      "[[ 4.1355 -1.8417]\n",
      " [ 2.0181 -1.0868]\n",
      " [ 1.7842  1.1768]]\n",
      "\n",
      "{0: [[array([ 4.1355, -1.8417])], []], 1: [[array([ 2.0181, -1.0868])], []], 2: [[array([1.7842, 1.1768])], []]}\n",
      "dict_items([(0, [[array([ 4.1355, -1.8417])], []]), (1, [[array([ 2.0181, -1.0868])], []]), (2, [[array([1.7842, 1.1768])], []])])\n"
     ]
    }
   ],
   "source": [
    "cost = np.inf\n",
    "tolerance = 1e-5\n",
    "\n",
    "# Step 1\n",
    "K = 3\n",
    "Centorids = centroid_intialization(K=K, data=data)\n",
    "print(Centorids)\n",
    "print()\n",
    "\n",
    "# Initialize empty list for every cluster\n",
    "centers_ = {k:[[Centorids[k]], []] for k in range(K)}\n",
    "print(centers_)\n",
    "print(centers_.items())\n",
    "\n",
    "def lloyds_algorithm_other(centers_=centers_, data=data, tolerance=tolerance, cost=cost):\n",
    "    while True:\n",
    "        for key in centers_.keys():\n",
    "            centers_[key][1] = []\n",
    "\n",
    "        for id_, pt in enumerate(data):\n",
    "            distances = []\n",
    "            for center in centers_.keys():\n",
    "                centroid = centers_[center][0]\n",
    "                dist = eucl_dist(centroid = centroid, other_pt_in_clust = pt)\n",
    "                #print(dist)\n",
    "                distances.append(dist) \n",
    "            minDist = np.min(distances)\n",
    "            minDistIdx = np.argmin(distances)\n",
    "            #print(minDistIdx)\n",
    "            centers_[minDistIdx][1].append(id_)\n",
    "\n",
    "        for center in centers_.keys():\n",
    "            thisClustIdxs = centers_[center][1]\n",
    "            centers_[center][0] = np.mean(data[thisClustIdxs], axis=0)\n",
    "            #print(centers_)\n",
    "\n",
    "        new_cost = cost_function(centers_,data)\n",
    "\n",
    "#         if new_cost >= cost:\n",
    "#             #print(np.abs(new_cost - cost))\n",
    "#             #print('Convergence reached!')\n",
    "        if np.abs(new_cost - cost) <=0.00001:\n",
    "            break\n",
    "        cost = new_cost\n",
    "        #print('WCSS: ', cost)\n",
    "\n",
    "    print('Final Cost: ', cost)\n",
    "    return cost, centers_, thisClustIdxs "
   ]
  },
  {
   "cell_type": "code",
   "execution_count": 104,
   "id": "39ff32ad",
   "metadata": {},
   "outputs": [
    {
     "name": "stdout",
     "output_type": "stream",
     "text": [
      "Final Cost:  47683.84041966412\n"
     ]
    }
   ],
   "source": [
    "cost = np.inf\n",
    "tolerance = 1e-5\n",
    "cost, centers_, thisClustIdxs = lloyds_algorithm_other(centers_=centers_, data=data, tolerance=tolerance, cost=cost)"
   ]
  },
  {
   "cell_type": "code",
   "execution_count": 94,
   "id": "f105459f",
   "metadata": {},
   "outputs": [
    {
     "data": {
      "image/png": "[encoded data removed]",
      "text/plain": [
       "<Figure size 432x288 with 1 Axes>"
      ]
     },
     "metadata": {
      "needs_background": "light"
     },
     "output_type": "display_data"
    }
   ],
   "source": [
    "for cluster_id in centers_.keys():\n",
    "    indexes = centers_[cluster_id][1]\n",
    "    plt.scatter(data[indexes][:, 0], data[indexes][:, 1], label='Cluster: ' + str(cluster_id + 1))\n",
    "    plt.legend()\n",
    "plt.title('Lloyds clutsering algorithm with K = 2 on ShapedData.csv')\n",
    "plt.show()"
   ]
  },
  {
   "cell_type": "code",
   "execution_count": null,
   "id": "6e95b31a",
   "metadata": {},
   "outputs": [],
   "source": []
  },
  {
   "cell_type": "code",
   "execution_count": 29,
   "id": "154c6a1f",
   "metadata": {},
   "outputs": [],
   "source": [
    "# string = ''\n",
    "# for val in centers_[3][1]:\n",
    "#     string+= str(val) + str(', ')\n",
    "# string"
   ]
  },
  {
   "cell_type": "markdown",
   "id": "380df990",
   "metadata": {},
   "source": [
    "# Greedy K Centers intialization and clustering (Kmeans++)"
   ]
  },
  {
   "cell_type": "markdown",
   "id": "6979de8f",
   "metadata": {},
   "source": [
    "# Steps\n",
    "1. Initialize the K \n",
    "2. Take any random point - c1\n",
    "3. Compute the farthest away point from this random point - c2\n",
    "4. Now, you have 2 points, C = {c1, c2}\n",
    "5. Take the third point such that after assigning each point to the nearest center from C, find the maximum distance\n",
    "6. Repeat step 5 till all the K points are obtained."
   ]
  },
  {
   "cell_type": "code",
   "execution_count": 36,
   "id": "ce9fae7d",
   "metadata": {},
   "outputs": [],
   "source": [
    "# Step 1\n",
    "K = 4"
   ]
  },
  {
   "cell_type": "code",
   "execution_count": 37,
   "id": "5a72864e",
   "metadata": {},
   "outputs": [
    {
     "data": {
      "text/plain": [
       "4"
      ]
     },
     "execution_count": 37,
     "metadata": {},
     "output_type": "execute_result"
    }
   ],
   "source": [
    "np.argmax(np.array([[1,4,5],\n",
    "         [4,69, 9]]))"
   ]
  },
  {
   "cell_type": "code",
   "execution_count": 38,
   "id": "ae0611f8",
   "metadata": {},
   "outputs": [
    {
     "data": {
      "text/plain": [
       "array([1, 4, 5])"
      ]
     },
     "execution_count": 38,
     "metadata": {},
     "output_type": "execute_result"
    }
   ],
   "source": [
    "np.min(\n",
    "    np.array(\n",
    "    [[1,4,5],\n",
    "    [4,69, 9]]\n",
    ")\n",
    ", axis=0)"
   ]
  },
  {
   "cell_type": "code",
   "execution_count": 105,
   "id": "53e2b3e4",
   "metadata": {},
   "outputs": [],
   "source": [
    "# Step 2\n",
    "import random\n",
    "\n",
    "def calc_eucl_dist(x1, x2):\n",
    "    eucl_dist = np.sum((x1 - x2)**2)\n",
    "    return eucl_dist\n",
    "\n",
    "def find_max_min(kCenterIds, data):\n",
    "    \n",
    "    distances = []\n",
    "    for centerId in kCenterIds:\n",
    "        dists = []\n",
    "        center = data[centerId]\n",
    "        for idx, pt in enumerate(data):\n",
    "            if idx == centerId:\n",
    "                #pass\n",
    "                dist = np.inf\n",
    "            dist = calc_eucl_dist(pt, center)\n",
    "            dists.append(dist)\n",
    "        distances.append(dists)\n",
    "    distancesArr = np.array(distances)\n",
    "    minDistToClusters = np.min(distancesArr, axis=0) #Assigning each point to nearest cluster based on distances(see above cell)\n",
    "    #print(minDistToClusters)\n",
    "    maxPtIdx = np.argmax(minDistToClusters)\n",
    "    #print(maxPtIdx) \n",
    "    return maxPtIdx, len(dists)\n",
    "\n",
    "def generate_k_points(K, data):\n",
    "    kCenterIds = []\n",
    "    random.seed(23)\n",
    "    kCenterIds.append(random.randint(0, len(data)))\n",
    "    if K <= 0:\n",
    "        print('K is not Valid')\n",
    "    else:\n",
    "        if K==1:\n",
    "            return kCenterIds\n",
    "        else:\n",
    "            for i in range(K-1):\n",
    "                newPt, l = find_max_min(kCenterIds, data)\n",
    "                #print(l)\n",
    "                kCenterIds.append(newPt)\n",
    "                #print(kCenterIds)\n",
    "    return kCenterIds"
   ]
  },
  {
   "cell_type": "code",
   "execution_count": 120,
   "id": "ea059cad",
   "metadata": {},
   "outputs": [
    {
     "data": {
      "text/plain": [
       "[2374, 2577]"
      ]
     },
     "execution_count": 120,
     "metadata": {},
     "output_type": "execute_result"
    }
   ],
   "source": [
    "K = 2\n",
    "kCenters = generate_k_points(K = K, data = data)\n",
    "kCenters"
   ]
  },
  {
   "cell_type": "code",
   "execution_count": 121,
   "id": "e39bf930",
   "metadata": {},
   "outputs": [
    {
     "data": {
      "text/plain": [
       "array([[ 4.1355, -1.8417],\n",
       "       [ 3.0811,  6.7565]])"
      ]
     },
     "execution_count": 121,
     "metadata": {},
     "output_type": "execute_result"
    }
   ],
   "source": [
    "data[kCenters]"
   ]
  },
  {
   "cell_type": "code",
   "execution_count": 122,
   "id": "d1509750",
   "metadata": {},
   "outputs": [],
   "source": [
    "def plot_pts(kCenters, data):\n",
    "    plt.figure(figsize=(7,5))\n",
    "    plt.scatter(data[:, 0], data[:, 1])\n",
    "    for idx in kCenters: \n",
    "        plt.scatter(data[idx, 0], data[idx, 1], color='red')\n",
    "    plt.title('Red points denote the K-centers for ShapedData.csv when K=4')\n",
    "    return plt.show()"
   ]
  },
  {
   "cell_type": "code",
   "execution_count": 123,
   "id": "3cb5d17e",
   "metadata": {},
   "outputs": [
    {
     "data": {
      "image/png": "[encoded data removed]",
      "text/plain": [
       "<Figure size 504x360 with 1 Axes>"
      ]
     },
     "metadata": {
      "needs_background": "light"
     },
     "output_type": "display_data"
    }
   ],
   "source": [
    "plot_pts(kCenters, data)"
   ]
  },
  {
   "cell_type": "code",
   "execution_count": 124,
   "id": "2bd6ece7",
   "metadata": {},
   "outputs": [
    {
     "data": {
      "text/plain": [
       "array([[ 4.1355, -1.8417],\n",
       "       [ 3.0811,  6.7565]])"
      ]
     },
     "execution_count": 124,
     "metadata": {},
     "output_type": "execute_result"
    }
   ],
   "source": [
    "Centorids = data[kCenters]\n",
    "Centorids"
   ]
  },
  {
   "cell_type": "code",
   "execution_count": 125,
   "id": "37b8ba25",
   "metadata": {},
   "outputs": [
    {
     "name": "stdout",
     "output_type": "stream",
     "text": [
      "{0: [[array([ 4.1355, -1.8417])], []], 1: [[array([3.0811, 6.7565])], []]}\n",
      "dict_items([(0, [[array([ 4.1355, -1.8417])], []]), (1, [[array([3.0811, 6.7565])], []])])\n"
     ]
    }
   ],
   "source": [
    "# Initialize empty list for every cluster\n",
    "centers_ = {k:[[Centorids[k]], []] for k in range(K)}\n",
    "print(centers_)\n",
    "print(centers_.items())"
   ]
  },
  {
   "cell_type": "code",
   "execution_count": 126,
   "id": "9a0182aa",
   "metadata": {},
   "outputs": [
    {
     "name": "stdout",
     "output_type": "stream",
     "text": [
      "Final Cost:  52452.2778802771\n",
      "\n",
      "Cost after K-centers is:  52452.2778802771\n"
     ]
    }
   ],
   "source": [
    "cost = np.inf\n",
    "tolerance = 1e-5\n",
    "\n",
    "cost, centers_, thisClustIdxs = lloyds_algorithm_other(centers_, data, tolerance, cost)\n",
    "print()\n",
    "print('Cost after K-centers is: ', cost)\n",
    "#print('Centers: ', centers_)"
   ]
  },
  {
   "cell_type": "code",
   "execution_count": 127,
   "id": "80975fe8",
   "metadata": {},
   "outputs": [
    {
     "data": {
      "image/png": "[encoded data removed]",
      "text/plain": [
       "<Figure size 432x288 with 1 Axes>"
      ]
     },
     "metadata": {
      "needs_background": "light"
     },
     "output_type": "display_data"
    }
   ],
   "source": [
    "for cluster_id in centers_.keys():\n",
    "    indexes = centers_[cluster_id][1]\n",
    "    plt.scatter(data[indexes][:, 0], data[indexes][:, 1], label = 'Cluster: ' + str(cluster_id +1))\n",
    "    plt.legend()\n",
    "plt.title('Kmeans with K-centers with ShapedData.csv')\n",
    "plt.show()"
   ]
  },
  {
   "cell_type": "markdown",
   "id": "faf8c5c1",
   "metadata": {},
   "source": [
    "# K - Medians Swap"
   ]
  },
  {
   "cell_type": "code",
   "execution_count": null,
   "id": "719ff7a0",
   "metadata": {},
   "outputs": [],
   "source": [
    "K = 5\n",
    "kCenters = generate_k_points(K = K, data = data)\n",
    "kCenters"
   ]
  },
  {
   "cell_type": "code",
   "execution_count": null,
   "id": "2355c052",
   "metadata": {},
   "outputs": [],
   "source": [
    "Centorids = data[kCenters]\n",
    "Centorids"
   ]
  },
  {
   "cell_type": "code",
   "execution_count": null,
   "id": "fee35757",
   "metadata": {},
   "outputs": [],
   "source": [
    "# Initialize empty list for every cluster\n",
    "centers_ = {k:[[Centorids[k]], []] for k in range(K)}\n",
    "print(centers_)\n",
    "print(centers_.items())"
   ]
  },
  {
   "cell_type": "code",
   "execution_count": null,
   "id": "1652bb04",
   "metadata": {},
   "outputs": [],
   "source": [
    "def plot_pts(kCenters, data):\n",
    "    plt.figure(figsize=(10,10))\n",
    "    plt.scatter(data[:, 0], data[:, 1])\n",
    "    for idx in kCenters: \n",
    "        plt.scatter(data[idx, 0], data[idx, 1], color='red')\n",
    "    return plt.show()"
   ]
  },
  {
   "cell_type": "code",
   "execution_count": null,
   "id": "71152aab",
   "metadata": {},
   "outputs": [],
   "source": [
    "plot_pts(kCenters, data)"
   ]
  },
  {
   "cell_type": "code",
   "execution_count": null,
   "id": "4741375c",
   "metadata": {},
   "outputs": [],
   "source": [
    "def find_distance_matrix(kCenters,data):\n",
    "    distance_matrix = [[np.sum((data[i] - data[j])**2)  for i in kCenters for  j in range(len(data))]]\n",
    "    return distance_matrix\n",
    "\n",
    "def median_swal_algorithm(kCenters, data):\n",
    "    kCenters_swap = kCenters\n",
    "    for center in kCenters:\n",
    "        kCenters_swap.remove(center)\n",
    "        distance_matrix = find_distance_matrix(kCenters_swap, data) \n",
    "        \n",
    "    return"
   ]
  },
  {
   "cell_type": "code",
   "execution_count": null,
   "id": "f046cedc",
   "metadata": {},
   "outputs": [],
   "source": [
    "median_swal_algorithm(kCenters, data)"
   ]
  },
  {
   "cell_type": "code",
   "execution_count": null,
   "id": "57f56c37",
   "metadata": {},
   "outputs": [],
   "source": []
  },
  {
   "cell_type": "markdown",
   "id": "cf790a41",
   "metadata": {},
   "source": [
    "# Spectral clustering"
   ]
  },
  {
   "cell_type": "markdown",
   "id": "e494f141",
   "metadata": {},
   "source": [
    "\n",
    "# Steps\n",
    "1. Initialize k for k-nearest neighbors, let us say k=5 and sigma = 0.1\n",
    "2. Initialize the empty matrix of N x N where N = # of data points\n",
    "3. Find the k-nearest neighbours and find the similarities by using the metric\n",
    "        𝑒xp(||𝑥𝑖−𝑥𝑗||2)2 and fill the empty spaces with the appropriate places\n",
    "4. This matrix is called the similarity matrix or the adjacency matrix, A\n",
    "5. Create a diagonal matrix D with each element being the sum of each row of A\n",
    "6. Now, the laplacian matrix L = D - A\n",
    "7. Find the Eigen values and Eigen vectors of L\n",
    "8. Determine the number of clusters, K  \n",
    "9. Select the K smallest eigen values and their associated eigen vectors\n",
    "10. Put all these eigen vectors together in columns and this matrix would be U\n",
    "11. Now, Apply K-Means clustering to the matrix U and find those K clusters\n"
   ]
  },
  {
   "cell_type": "code",
   "execution_count": 63,
   "id": "c34edb33",
   "metadata": {},
   "outputs": [],
   "source": [
    "def guassian_similairty_fn(current_pt, data, sigma, k):\n",
    "    norm2 = np.sum((current_pt - data)**2, axis=1)\n",
    "    const = -1/(2*sig**2)\n",
    "    similarities = np.exp(const * norm2)\n",
    "    #print(similarities)\n",
    "    kIndices = np.argsort(similarities)[::-1][1:k+1] # dont take 0 index as it is the distance of the pt to itself\n",
    "    #print('K Indices: ', kIndices)\n",
    "    kDistances = similarities[kIndices]\n",
    "    #print('K Similarities: ', kDistances)\n",
    "    return kIndices, kDistances"
   ]
  },
  {
   "cell_type": "code",
   "execution_count": 73,
   "id": "ff01aaec",
   "metadata": {},
   "outputs": [
    {
     "name": "stdout",
     "output_type": "stream",
     "text": [
      "Is matrix A symmetrical:  True\n",
      "[21 15 20 22]\n",
      "\n",
      "U  =  [1.59843692e-15 2.12159330e-15 2.18356440e-15 1.27486668e-14]\n",
      "\n",
      "[[ 1.11355475e-03 -3.16224071e-02 -1.08395517e-02 -3.80697965e-05]\n",
      " [ 1.82753080e-03 -8.08076913e-05  9.14701692e-03 -1.91325841e-02]\n",
      " [ 1.82753080e-03 -8.08076913e-05  9.14701692e-03 -1.91325841e-02]\n",
      " ...\n",
      " [ 1.82753080e-03 -8.08076913e-05  9.14701692e-03 -1.91325841e-02]\n",
      " [ 1.82753080e-03 -8.08076913e-05  9.14701692e-03 -1.91325841e-02]\n",
      " [ 1.21796548e-02  1.14936019e-04 -6.25437672e-04 -1.80366302e-02]]\n",
      "\n",
      "Centorids :  [[ 1.82753080e-03 -8.08076913e-05  9.14701692e-03 -1.91325841e-02]\n",
      " [ 1.11355475e-03 -3.16224071e-02 -1.08395517e-02 -3.80697965e-05]\n",
      " [ 1.11355475e-03 -3.16224071e-02 -1.08395517e-02 -3.80697965e-05]\n",
      " [ 1.11355475e-03 -3.16224071e-02 -1.08395517e-02 -3.80697965e-05]]\n",
      "Centers :  {0: [[array([ 1.82753080e-03, -8.08076913e-05,  9.14701692e-03, -1.91325841e-02])], []], 1: [[array([ 1.11355475e-03, -3.16224071e-02, -1.08395517e-02, -3.80697965e-05])], []], 2: [[array([ 1.11355475e-03, -3.16224071e-02, -1.08395517e-02, -3.80697965e-05])], []], 3: [[array([ 1.11355475e-03, -3.16224071e-02, -1.08395517e-02, -3.80697965e-05])], []]}\n",
      "Center Items :  dict_items([(0, [[array([ 1.82753080e-03, -8.08076913e-05,  9.14701692e-03, -1.91325841e-02])], []]), (1, [[array([ 1.11355475e-03, -3.16224071e-02, -1.08395517e-02, -3.80697965e-05])], []]), (2, [[array([ 1.11355475e-03, -3.16224071e-02, -1.08395517e-02, -3.80697965e-05])], []]), (3, [[array([ 1.11355475e-03, -3.16224071e-02, -1.08395517e-02, -3.80697965e-05])], []])])\n"
     ]
    }
   ],
   "source": [
    "# Step 1\n",
    "N = len(data)\n",
    "k = 10\n",
    "sig = 1\n",
    "\n",
    "# Step 2\n",
    "A = np.zeros((N, N))\n",
    "\n",
    "for idx, pt in enumerate(data):\n",
    "    kNearestIndices, kNearestDists = guassian_similairty_fn(current_pt = pt, data =data, sigma = sig, k=k)\n",
    "    A[idx][kNearestIndices] = kNearestDists\n",
    "\n",
    "A = A + np.multiply(A.T,(A == 0).astype(int))\n",
    "\n",
    "# To check for symmetricity\n",
    "print('Is matrix A symmetrical: ', (A==A.T).all())\n",
    "\n",
    "# Step 5\n",
    "D_values = A.sum(axis=1)\n",
    "D = np.diag(D_values)\n",
    "\n",
    "# Step 6\n",
    "L = D - A\n",
    "\n",
    "# Step 7\n",
    "c = 4    # 4 clusters\n",
    "(eigenVals, eigenVects) = np.linalg.eig(L)\n",
    "Kindices = np.argsort(eigenVals)[:c]\n",
    "KeigenVals = eigenVals[Kindices]\n",
    "KeigenVects = eigenVects[:,Kindices]\n",
    "\n",
    "print(Kindices)\n",
    "print()\n",
    "print('U  = ', KeigenVals)\n",
    "print()\n",
    "print(KeigenVects)\n",
    "\n",
    "# Step 1\n",
    "K = 4 # No. of clusters\n",
    "Centorids = centroid_intialization(K=K, data=KeigenVects)\n",
    "print()\n",
    "print('Centorids : ', Centorids)\n",
    "\n",
    "# Initialize empty list for every cluster\n",
    "centers_ = {k:[[Centorids[k]], []] for k in range(K)}\n",
    "print('Centers : ', centers_)\n",
    "print('Center Items : ', centers_.items())"
   ]
  },
  {
   "cell_type": "code",
   "execution_count": 66,
   "id": "a6c1c4af",
   "metadata": {},
   "outputs": [
    {
     "name": "stdout",
     "output_type": "stream",
     "text": [
      "Weighted Adjacency matrix \n",
      " A = \n",
      " [[0. 0. 0. ... 0. 0. 0.]\n",
      " [0. 0. 0. ... 0. 0. 0.]\n",
      " [0. 0. 0. ... 0. 0. 0.]\n",
      " ...\n",
      " [0. 0. 0. ... 0. 0. 0.]\n",
      " [0. 0. 0. ... 0. 0. 0.]\n",
      " [0. 0. 0. ... 0. 0. 0.]]\n"
     ]
    }
   ],
   "source": [
    "print('Weighted Adjacency matrix \\n A = \\n', A)"
   ]
  },
  {
   "cell_type": "code",
   "execution_count": 70,
   "id": "9f89bcc0",
   "metadata": {},
   "outputs": [
    {
     "name": "stdout",
     "output_type": "stream",
     "text": [
      "Clusters: [0 1 1 ... 1 1 3]\n",
      "4460\n"
     ]
    },
    {
     "data": {
      "image/png": "[encoded data removed]",
      "text/plain": [
       "<Figure size 432x288 with 1 Axes>"
      ]
     },
     "metadata": {
      "needs_background": "light"
     },
     "output_type": "display_data"
    }
   ],
   "source": [
    "# Spectral clustering\n",
    "# the eigen vectors corresponding to the k smallest eigen values are clustered by K means/Lloyd's algorithm\n",
    "cost = np.inf\n",
    "tolerance = 1e-5\n",
    "\n",
    "cost, centers_, thisClustIdxs = lloyds_algorithm_other(centers_=centers_, data=KeigenVects, tolerance=tolerance, cost=cost)\n",
    "\n",
    "for idx in centers_.keys():\n",
    "    plt.scatter(data[:, 0][centers_[idx][1]], data[:, 1][centers_[idx][1]], label = 'Cluster: ' + str(idx))\n",
    "    plt.legend()\n",
    "plt.show()"
   ]
  },
  {
   "cell_type": "code",
   "execution_count": 133,
   "id": "a1465197",
   "metadata": {},
   "outputs": [
    {
     "name": "stdout",
     "output_type": "stream",
     "text": [
      "Clusters: [2 3 3 ... 3 3 1]\n",
      "4460\n"
     ]
    },
    {
     "data": {
      "image/png": "[encoded data removed]",
      "text/plain": [
       "<Figure size 432x288 with 1 Axes>"
      ]
     },
     "metadata": {
      "needs_background": "light"
     },
     "output_type": "display_data"
    }
   ],
   "source": [
    "# Compare with standard sklearn package\n",
    "\n",
    "from sklearn.cluster import KMeans\n",
    "\n",
    "kmeans = KMeans(n_clusters=c)\n",
    "kmeans.fit(KeigenVects)\n",
    "colors = kmeans.labels_\n",
    "\n",
    "print(\"Clusters:\", colors)\n",
    "print(len(colors))\n",
    "# Clusters: [2 1 1 0 0 0 3 3 2 2]\n",
    "\n",
    "for color in np.unique(colors):\n",
    "    plt.scatter(data[:, 0][colors==color], data[:, 1][colors==color], label = 'Cluster: ' + str(color+1))\n",
    "    plt.legend()\n",
    "plt.title('Spectral clustering results on ShapedData.csv')\n",
    "plt.show()"
   ]
  },
  {
   "cell_type": "markdown",
   "id": "e77dc424",
   "metadata": {},
   "source": [
    "### Both produces same results"
   ]
  },
  {
   "cell_type": "markdown",
   "id": "bfcf17da",
   "metadata": {},
   "source": [
    "# K Medians Swap Algorithm"
   ]
  },
  {
   "cell_type": "markdown",
   "id": "cb09d294",
   "metadata": {},
   "source": [
    "Steps:\n",
    "1. Run kcenters algorithm to get Q, cost(previous).\n",
    "2. initial distance matrix of shape (samples, clusters)\n",
    "3. update distance matrix’s columns (which are clusters) as euclidean distance between X and centroid of each cluster.\n",
    "4. max_D as max of min of distance\n",
    "\n",
    "5. Run a loop for each cluster (i)\n",
    "    : if i is the first cluster, get min of distance[:, 0:]\n",
    "    : if i is the last cluster, get min of distance[:, :-1]\n",
    "    : if i is the cluster between first and last cluster, \n",
    "            mimimum distance is either min of distance[:, :i] or min of distance[:, (i+1):]\n",
    "\n",
    "- (Still inside loop)\n",
    "6. boolean to store if we found a better swap.\n",
    "\n",
    "7. For all samples j\n",
    "- get euclidean distance between all samples and jth observation. (euc_dist)\n",
    "- get max of (min of (min_distance (if loops), euc_dist)). — max_d\n",
    "- if max_d/max_D is less than 1-tau, update the ith row of Q with the observation that minimises the minimum distance, update the ith column of distance matrix as euc_dist, update boolean, update max_D as max_d\n",
    "\n",
    "8. Increment the cluster i.\n",
    "- If we have not found the swap and if you have reached the last cluster, break else increment i by 1.\n",
    "- If we found a swap and i is exhausted, start again (ie i=0)\n",
    "\n",
    "9. Update C to get argmin of distance\n",
    "\n",
    "10. Return the distance matrix, C and costs.\n"
   ]
  },
  {
   "cell_type": "code",
   "execution_count": 135,
   "id": "3cdb9a84",
   "metadata": {},
   "outputs": [
    {
     "name": "stdout",
     "output_type": "stream",
     "text": [
      "\n",
      "new centroids \n",
      "[2577, 912, 2214, 0]\n",
      "\n",
      "new centroids \n",
      "[2577, 912, 2214, 3]\n",
      "\n",
      "new centroids \n",
      "[2577, 912, 2214, 7]\n",
      "\n",
      "new centroids \n",
      "[2577, 912, 2214, 11]\n",
      "\n",
      "new centroids \n",
      "[912, 2214, 11, 0]\n",
      "\n",
      "new centroids \n",
      "[912, 2214, 11, 44]\n",
      "\n",
      "new centroids \n",
      "[2214, 11, 44, 0]\n",
      "\n",
      "new centroids \n",
      "[2214, 11, 44, 5]\n",
      "\n",
      "new centroids \n",
      "[2214, 11, 44, 8]\n",
      "\n",
      "new centroids \n",
      "[2214, 11, 44, 13]\n",
      "\n",
      "new centroids \n",
      "[11, 44, 13, 1]\n",
      "\n",
      "new centroids \n",
      "[11, 44, 13, 3]\n",
      "\n",
      "new centroids \n",
      "[11, 44, 13, 19]\n",
      "\n",
      "new centroids \n",
      "[11, 44, 13, 25]\n",
      "\n",
      "new centroids \n",
      "[11, 44, 13, 48]\n"
     ]
    }
   ],
   "source": [
    "import numpy as np\n",
    "\n",
    "tau = 0.05\n",
    "K = 4\n",
    "\n",
    "# Initialize K centroids using Greedy K centers algorithm\n",
    "kCenters = generate_k_points(K = K, data = data)\n",
    "centroids = kCenters.copy()\n",
    "centroids_copy = centroids.copy()\n",
    "X = np.asmatrix(data).copy()\n",
    "\n",
    "def obj_func(distance_matrix,centroid,non_centroids_copy):\n",
    "#     print(np.sum(np.square(X[non_centroids_copy,:] - X[centroid,:]),axis = 1))\n",
    "    distance_matrix = np.hstack([distance_matrix, np.sum(np.square(X[non_centroids_copy,:] - X[centroid,:]),axis = 1)])\n",
    "#     print(np.square(X[non_centroids_copy,:] - X[centroid,:]))\n",
    "#     print(distance_matrix)\n",
    "    distance_matrix = np.min(distance_matrix,axis = 1)\n",
    "    \n",
    "    return np.sum(distance_matrix)\n",
    "\n",
    "points = list(range(len(X)))\n",
    "    \n",
    "for centroid in centroids:\n",
    "    \n",
    "    centroids_copy.remove(centroid)\n",
    "    non_centroids = [i for i in points if i not in centroids_copy] \n",
    "    optimal_centroids = centroids_copy\n",
    "    optimal_non_centroids = non_centroids.copy()\n",
    "    \n",
    "    distance_matrix = np.sum(np.square(X[non_centroids,:] - X[centroid,:]),axis = 1)\n",
    "    \n",
    "    for centroid in centroids_copy[1:]:\n",
    "        distance_matrix = np.hstack([distance_matrix,np.sum(np.square(X[non_centroids,:] - X[centroid,:]),axis= 1)])\n",
    "        distance_matrix = np.min(distance_matrix,axis = 1)\n",
    "    \n",
    "    non_centroids_copy = non_centroids.copy()\n",
    "    new_loss = np.sum(distance_matrix)\n",
    "    \n",
    "    for non_centroid in non_centroids:\n",
    "        \n",
    "        #non_centroids_copy.remove(centroid)\n",
    "        loss = obj_func(distance_matrix,non_centroid,non_centroids_copy)\n",
    "        \n",
    "        if loss < new_loss*(1-tau):\n",
    "            \n",
    "            new_loss = loss\n",
    "            optimal_centroids = centroids_copy.copy() + [non_centroid]\n",
    "\n",
    "            print(\"\\nnew centroids \")\n",
    "            print(optimal_centroids)\n",
    "        \n",
    "        non_centroids_copy = non_centroids.copy()\n",
    "        \n",
    "\n",
    "    centroids_copy = optimal_centroids.copy()\n",
    "\n",
    "def get_cluster_assignment(X):\n",
    "    cluster_assigned = np.apply_along_axis(self.nearest_cluster,arr = X,axis = 1)\n",
    "    return X,cluster_assigned"
   ]
  },
  {
   "cell_type": "code",
   "execution_count": 136,
   "id": "be20eded",
   "metadata": {},
   "outputs": [
    {
     "data": {
      "text/plain": [
       "[11, 44, 13, 48]"
      ]
     },
     "execution_count": 136,
     "metadata": {},
     "output_type": "execute_result"
    }
   ],
   "source": [
    "optimal_centroids"
   ]
  },
  {
   "cell_type": "code",
   "execution_count": 137,
   "id": "87642daf",
   "metadata": {},
   "outputs": [
    {
     "data": {
      "text/plain": [
       "array([[ 3.2516 ,  3.9068 ],\n",
       "       [ 3.0439 , -0.3969 ],\n",
       "       [ 0.35551, -3.1525 ],\n",
       "       [ 1.1217 ,  3.9168 ]])"
      ]
     },
     "execution_count": 137,
     "metadata": {},
     "output_type": "execute_result"
    }
   ],
   "source": [
    "data[optimal_centroids]"
   ]
  },
  {
   "cell_type": "code",
   "execution_count": null,
   "id": "0f9f3366",
   "metadata": {},
   "outputs": [],
   "source": []
  }
 ],
 "metadata": {
  "kernelspec": {
   "display_name": "Python 3 (ipykernel)",
   "language": "python",
   "name": "python3"
  },
  "language_info": {
   "codemirror_mode": {
    "name": "ipython",
    "version": 3
   },
   "file_extension": ".py",
   "mimetype": "text/x-python",
   "name": "python",
   "nbconvert_exporter": "python",
   "pygments_lexer": "ipython3",
   "version": "3.9.12"
  }
 },
 "nbformat": 4,
 "nbformat_minor": 5
}
